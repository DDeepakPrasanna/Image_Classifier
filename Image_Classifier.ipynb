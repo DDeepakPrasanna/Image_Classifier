{
 "cells": [
  {
   "cell_type": "code",
   "execution_count": 2,
   "metadata": {},
   "outputs": [
    {
     "name": "stdout",
     "output_type": "stream",
     "text": [
      "Requirement already satisfied: ipython-autotime in c:\\users\\d deepak prasanna\\anaconda3\\lib\\site-packages (0.3.1)\n",
      "Requirement already satisfied: ipython in c:\\users\\d deepak prasanna\\anaconda3\\lib\\site-packages (from ipython-autotime) (7.8.0)\n",
      "Requirement already satisfied: decorator in c:\\users\\d deepak prasanna\\anaconda3\\lib\\site-packages (from ipython->ipython-autotime) (4.4.0)\n",
      "Requirement already satisfied: colorama; sys_platform == \"win32\" in c:\\users\\d deepak prasanna\\anaconda3\\lib\\site-packages (from ipython->ipython-autotime) (0.4.1)\n",
      "Requirement already satisfied: backcall in c:\\users\\d deepak prasanna\\anaconda3\\lib\\site-packages (from ipython->ipython-autotime) (0.1.0)\n",
      "Requirement already satisfied: prompt-toolkit<2.1.0,>=2.0.0 in c:\\users\\d deepak prasanna\\anaconda3\\lib\\site-packages (from ipython->ipython-autotime) (2.0.10)\n",
      "Requirement already satisfied: traitlets>=4.2 in c:\\users\\d deepak prasanna\\anaconda3\\lib\\site-packages (from ipython->ipython-autotime) (4.3.3)\n",
      "Requirement already satisfied: setuptools>=18.5 in c:\\users\\d deepak prasanna\\anaconda3\\lib\\site-packages (from ipython->ipython-autotime) (41.4.0)\n",
      "Requirement already satisfied: pygments in c:\\users\\d deepak prasanna\\anaconda3\\lib\\site-packages (from ipython->ipython-autotime) (2.4.2)\n",
      "Requirement already satisfied: jedi>=0.10 in c:\\users\\d deepak prasanna\\anaconda3\\lib\\site-packages (from ipython->ipython-autotime) (0.15.1)\n",
      "Requirement already satisfied: pickleshare in c:\\users\\d deepak prasanna\\anaconda3\\lib\\site-packages (from ipython->ipython-autotime) (0.7.5)\n",
      "Requirement already satisfied: six>=1.9.0 in c:\\users\\d deepak prasanna\\anaconda3\\lib\\site-packages (from prompt-toolkit<2.1.0,>=2.0.0->ipython->ipython-autotime) (1.12.0)\n",
      "Requirement already satisfied: wcwidth in c:\\users\\d deepak prasanna\\anaconda3\\lib\\site-packages (from prompt-toolkit<2.1.0,>=2.0.0->ipython->ipython-autotime) (0.1.7)\n",
      "Requirement already satisfied: ipython-genutils in c:\\users\\d deepak prasanna\\anaconda3\\lib\\site-packages (from traitlets>=4.2->ipython->ipython-autotime) (0.2.0)\n",
      "Requirement already satisfied: parso>=0.5.0 in c:\\users\\d deepak prasanna\\anaconda3\\lib\\site-packages (from jedi>=0.10->ipython->ipython-autotime) (0.5.1)\n",
      "time: 0 ns (started: 2021-06-16 12:19:19 +05:30)\n"
     ]
    }
   ],
   "source": [
    "!pip install ipython-autotime\n",
    "%load_ext autotime"
   ]
  },
  {
   "cell_type": "code",
   "execution_count": 3,
   "metadata": {},
   "outputs": [
    {
     "name": "stdout",
     "output_type": "stream",
     "text": [
      "Requirement already satisfied: bing-image-downloader in c:\\users\\d deepak prasanna\\anaconda3\\lib\\site-packages (1.1.0)\n",
      "time: 3.94 s (started: 2021-06-16 12:19:19 +05:30)\n"
     ]
    }
   ],
   "source": [
    "!pip install bing-image-downloader"
   ]
  },
  {
   "cell_type": "code",
   "execution_count": 4,
   "metadata": {},
   "outputs": [
    {
     "name": "stdout",
     "output_type": "stream",
     "text": [
      "time: 15 ms (started: 2021-06-16 12:19:23 +05:30)\n"
     ]
    },
    {
     "name": "stderr",
     "output_type": "stream",
     "text": [
      "A subdirectory or file images already exists.\n"
     ]
    }
   ],
   "source": [
    "!mkdir images"
   ]
  },
  {
   "cell_type": "code",
   "execution_count": 5,
   "metadata": {},
   "outputs": [
    {
     "name": "stdout",
     "output_type": "stream",
     "text": [
      "[%] Downloading Images to C:\\Users\\D Deepak Prasanna\\Desktop\\New folder\\images\\Basket Ball\n",
      "\n",
      "\n",
      "[!!]Indexing page: 1\n",
      "\n",
      "[%] Indexed 30 Images on Page 1.\n",
      "\n",
      "===============================================\n",
      "\n",
      "[%] Downloading Image #1 from https://cdn.shopify.com/s/files/1/0016/9266/3857/products/PHOTO-2019-04-12-05-23-54_1024x1024@2x.jpg?v=1558654268\n",
      "[%] File Downloaded !\n",
      "\n",
      "[%] Downloading Image #2 from https://theballstore.co.nz/wp-content/uploads/2020/04/BB700-TRUE-Side-1.png\n",
      "[%] File Downloaded !\n",
      "\n",
      "[%] Downloading Image #3 from https://cdn.shopify.com/s/files/1/0016/9266/3857/products/PHOTO-2019-04-12-05-23-53_1024x1024@2x.jpg?v=1558654268\n",
      "[%] File Downloaded !\n",
      "\n",
      "[%] Downloading Image #4 from https://mg.co.id/wp-content/uploads/2020/03/true_grip_ot_8p_07-600x600.png\n",
      "[%] File Downloaded !\n",
      "\n",
      "[%] Downloading Image #5 from https://cdn.shopify.com/s/files/1/0016/9266/3857/products/PHOTO-2019-04-12-05-23-52_1024x1024@2x.jpg?v=1558654268\n",
      "[%] File Downloaded !\n",
      "\n",
      "[%] Downloading Image #6 from https://mg.co.id/product/nike-basket-ball-true-grip-ot-8p-07/true_grip_ot_8p_07_iii.jpg\n",
      "[%] File Downloaded !\n",
      "\n",
      "[%] Downloading Image #7 from https://n2.sdlcdn.com/imgs/a/s/p/Nivia-True-Orange-Bb-196-SDL102957248-1-6a122.jpg\n",
      "[%] File Downloaded !\n",
      "\n",
      "[%] Downloading Image #8 from https://www.spogoo.com/wp-content/uploads/2020/10/BUY-NIVIA-TRUE-ORANGE-RUBBER-BASKET-BALL.jpg\n",
      "[%] File Downloaded !\n",
      "\n",
      "[%] Downloading Image #9 from http://images.sportsdirect.com/images/products/80101212_l.jpg\n",
      "[%] File Downloaded !\n",
      "\n",
      "[%] Downloading Image #10 from https://rukminim1.flixcart.com/image/1664/1664/ball/m/8/9/bb-196-nivia-basketball-true-orange-original-imadzdaz6uxv2kjp.jpeg?q=90\n",
      "[%] File Downloaded !\n",
      "\n",
      "[%] Downloading Image #11 from http://i.ebayimg.com/images/i/251836984620-0-1/s-l1000.jpg\n",
      "[%] File Downloaded !\n",
      "\n",
      "[%] Downloading Image #12 from https://www.superfanas.lt/application/images/Image/6_KREPSINIO_APR/KAMUOLIAI/20170426/nike-true-grip-basketball-ball-size-7-bb0509-801-1.jpg\n",
      "[%] File Downloaded !\n",
      "\n",
      "[%] Downloading Image #13 from https://images.glaciermedia.ca/polopoly_fs/1.2343367.1473871256!/fileImage/httpImage/image.jpg_gen/derivatives/landscape_804/image.jpg\n",
      "[%] File Downloaded !\n",
      "\n",
      "[%] Downloading Image #14 from https://i8.amplience.net/i/jpl/jd_389217_b?qlt=92&amp;w=750&amp;h=957&amp;v=1\n",
      "[%] File Downloaded !\n",
      "\n",
      "[%] Downloading Image #15 from https://mg.co.id/wp-content/uploads/2020/03/images-060000537-65494-400x400.jpg\n",
      "[%] File Downloaded !\n",
      "\n",
      "[%] Downloading Image #16 from https://jarroldcdn.azureedge.net/products-temp/nike/nike-true-grip{w=1000,h=1000}.jpg\n",
      "[%] File Downloaded !\n",
      "\n",
      "[%] Downloading Image #17 from https://4.imimg.com/data4/HC/NI/MY-2100883/nivia-tucana-basket-ball-500x500.jpg\n",
      "[%] File Downloaded !\n",
      "\n",
      "[%] Downloading Image #18 from https://i.ebayimg.com/images/i/291638498344-0-1/s-l1000.jpg\n",
      "[%] File Downloaded !\n",
      "\n",
      "[%] Downloading Image #19 from https://www.spalding.com/dw/image/v2/ABAH_PRD/on/demandware.static/-/Sites-masterCatalog_SPALDING/default/dw833823b2/images/hi-res/Spalding-Digital-Assets_15660.png?sw=1598&amp;sh=1982&amp;sm=cut\n",
      "[%] File Downloaded !\n",
      "\n",
      "[%] Downloading Image #20 from https://freebies2deals.com/wp-content/uploads/2012/11/freebies2deals-nike-basketball.png\n",
      "[%] File Downloaded !\n",
      "\n",
      "[%] Downloading Image #21 from https://i.pinimg.com/originals/d7/d3/58/d7d3584149077999fe12bae169c142db.jpg\n",
      "[%] File Downloaded !\n",
      "\n",
      "[%] Downloading Image #22 from https://s7d2.scene7.com/is/image/dkscdn/16NIKUNKTRGRPTFFCBKB_is/\n",
      "[%] File Downloaded !\n",
      "\n",
      "[%] Downloading Image #23 from https://acrossports.s3.amazonaws.com/productPhotos/NIKE/NKI0785507/NKI0785507_6.jpg\n",
      "[%] File Downloaded !\n",
      "\n",
      "[%] Downloading Image #24 from https://www.spalding.com/dw/image/v2/ABAH_PRD/on/demandware.static/-/Sites-masterCatalog_SPALDING/default/dw4d0dcffb/images/hi-res/Spalding-Digital-Assets_11169.png?sw=1598&amp;sh=1982&amp;sm=cut\n",
      "[%] File Downloaded !\n",
      "\n",
      "[%] Downloading Image #25 from https://i0.wp.com/outdoorfull.com/wp-content/uploads/2019/04/789314145-1.jpg?fit=499%2C500&amp;ssl=1\n",
      "[%] File Downloaded !\n",
      "\n",
      "[%] Downloading Image #26 from http://images.sportsdirect.com/images/imgzoom/80/80101012_xxl.jpg\n",
      "[%] File Downloaded !\n",
      "\n",
      "[%] Downloading Image #27 from https://dks.scene7.com/is/image/dkscdn/16NIKWNKTRGRPT285BKB\n",
      "[%] File Downloaded !\n",
      "\n",
      "[%] Downloading Image #28 from http://i.ytimg.com/vi/JLnf_COFn9I/maxresdefault.jpg\n",
      "[%] File Downloaded !\n",
      "\n",
      "[%] Downloading Image #29 from https://i8.amplience.net/i/jpl/jd_389217_a?qlt=92&amp;w=750&amp;h=750&amp;v=1\n",
      "[%] File Downloaded !\n",
      "\n",
      "[%] Downloading Image #30 from https://basketo.co.uk/eng_pm_NIKE-TRUE-GRIP-OUTDOOR-Basketball-BB0509-801-17470_1.png\n",
      "[%] File Downloaded !\n",
      "\n",
      "\n",
      "\n",
      "[%] Done. Downloaded 30 images.\n",
      "===============================================\n",
      "\n",
      "Please show your support here\n",
      "https://www.buymeacoffee.com/gurugaurav\n",
      "\n",
      "===============================================\n",
      "\n",
      "time: 2min 33s (started: 2021-06-16 12:19:25 +05:30)\n"
     ]
    }
   ],
   "source": [
    "from bing_image_downloader import downloader\n",
    "downloader.download(\"Basket Ball\" , limit=30,output_dir='images',adult_filter_off=True)"
   ]
  },
  {
   "cell_type": "code",
   "execution_count": 6,
   "metadata": {},
   "outputs": [
    {
     "name": "stdout",
     "output_type": "stream",
     "text": [
      "[%] Downloading Images to C:\\Users\\D Deepak Prasanna\\Desktop\\New folder\\images\\Rugby Ball\n",
      "\n",
      "\n",
      "[!!]Indexing page: 1\n",
      "\n",
      "[%] Indexed 30 Images on Page 1.\n",
      "\n",
      "===============================================\n",
      "\n",
      "[%] Downloading Image #1 from https://www.rugbystore.co.uk/wso/images/library/48427805-side1-72dpi-rgb.jpg?view=976&amp;v=637153728600000000\n",
      "[%] File Downloaded !\n",
      "\n",
      "[%] Downloading Image #2 from https://www.rugbystore.co.uk/wso/images/library/gow-017378-front-72dpi-rgb.jpg?view=976&amp;v=636547382400000000\n",
      "[%] File Downloaded !\n",
      "\n",
      "[%] Downloading Image #3 from https://www.cathryncariad.com/uploads/5/0/7/9/5079686/s330083002289802700_p249_i34_w2466.jpeg\n",
      "[%] File Downloaded !\n",
      "\n",
      "[%] Downloading Image #4 from https://www.rugbystore.co.uk/wso/images/library/45075905-detail-72dpi-rgb.jpg?view=976&amp;v=636461638200000000\n",
      "[%] File Downloaded !\n",
      "\n",
      "[%] Downloading Image #5 from https://i.pinimg.com/originals/97/af/d2/97afd2912fcdbed61e7d2dde52a9a2bf.jpg\n",
      "[%] File Downloaded !\n",
      "\n",
      "[%] Downloading Image #6 from https://www.rugbystore.co.uk/wso/images/library/48418401-side1-72dpi-rgb.jpg?view=976\n",
      "[%] File Downloaded !\n",
      "\n",
      "[%] Downloading Image #7 from https://www.rugbystore.co.uk/wso/images/library/b000102-a70-main-72dpi-rgb.jpg?view=976&amp;v=637426011000000000\n",
      "[Error]Invalid image, not saving https://www.rugbystore.co.uk/wso/images/library/b000102-a70-main-72dpi-rgb.jpg?view=976&amp;v=637426011000000000\n",
      "\n",
      "[!] Issue getting: https://www.rugbystore.co.uk/wso/images/library/b000102-a70-main-72dpi-rgb.jpg?view=976&amp;v=637426011000000000\n",
      "[!] Error:: Invalid image, not saving https://www.rugbystore.co.uk/wso/images/library/b000102-a70-main-72dpi-rgb.jpg?view=976&amp;v=637426011000000000\n",
      "\n",
      "[%] Downloading Image #7 from https://www.ctsports.co.uk/media/catalog/product/e/n/england-rugby-ball-supporters_3.jpg\n",
      "[%] File Downloaded !\n",
      "\n",
      "[%] Downloading Image #8 from https://www.rugbystore.co.uk/wso/images/library/bal21-front-72dpi-rgb.jpg?view=976&amp;v=637466652000000000\n",
      "[Error]Invalid image, not saving https://www.rugbystore.co.uk/wso/images/library/bal21-front-72dpi-rgb.jpg?view=976&amp;v=637466652000000000\n",
      "\n",
      "[!] Issue getting: https://www.rugbystore.co.uk/wso/images/library/bal21-front-72dpi-rgb.jpg?view=976&amp;v=637466652000000000\n",
      "[!] Error:: Invalid image, not saving https://www.rugbystore.co.uk/wso/images/library/bal21-front-72dpi-rgb.jpg?view=976&amp;v=637466652000000000\n",
      "\n",
      "[%] Downloading Image #8 from https://www.rugbystore.co.uk/wso/images/library/41035901-front-72dpi-rgb.jpg?view=976&amp;v=636959524200000000\n",
      "[%] File Downloaded !\n",
      "\n",
      "[%] Downloading Image #9 from https://www.rugbystore.co.uk/wso/images/library/b000102-a70-detail2-72dpi-rgb.jpg?view=976&amp;v=637426011000000000\n",
      "[Error]Invalid image, not saving https://www.rugbystore.co.uk/wso/images/library/b000102-a70-detail2-72dpi-rgb.jpg?view=976&amp;v=637426011000000000\n",
      "\n",
      "[!] Issue getting: https://www.rugbystore.co.uk/wso/images/library/b000102-a70-detail2-72dpi-rgb.jpg?view=976&amp;v=637426011000000000\n",
      "[!] Error:: Invalid image, not saving https://www.rugbystore.co.uk/wso/images/library/b000102-a70-detail2-72dpi-rgb.jpg?view=976&amp;v=637426011000000000\n",
      "\n",
      "[%] Downloading Image #9 from https://www.prodirectrugby.com/productimages/V3_1_Main/181653_Main_Thumb_0509001.jpg\n",
      "[!] Issue getting: https://www.prodirectrugby.com/productimages/V3_1_Main/181653_Main_Thumb_0509001.jpg\n",
      "[!] Error:: HTTP Error 403: Forbidden\n",
      "[%] Downloading Image #9 from https://www.rugbystore.co.uk/wso/images/library/45076705-side1-72dpi-rgb.jpg?view=976&amp;v=637153728000000000\n",
      "[%] File Downloaded !\n",
      "\n",
      "[%] Downloading Image #10 from https://i.pinimg.com/originals/4e/6e/8e/4e6e8ec819ed65e7f7e923b79943df13.jpg\n",
      "[%] File Downloaded !\n",
      "\n",
      "[%] Downloading Image #11 from http://englishroserugby.com/img/Products/RugbyBall2.jpg\n",
      "[%] File Downloaded !\n",
      "\n",
      "[%] Downloading Image #12 from https://www.ctsports.co.uk/media/catalog/product/s/c/scotland-rugby-ball-replica.jpg\n",
      "[%] File Downloaded !\n",
      "\n",
      "[%] Downloading Image #13 from https://cdn.shopify.com/s/files/1/1492/1076/products/Screenshot_2020-01-16_at_20.45.24_1400x.png?v=1579207648\n",
      "[%] File Downloaded !\n",
      "\n",
      "[%] Downloading Image #14 from https://www.borusports.ie/wp-content/uploads/2020/04/RRB1334-1.jpg\n",
      "[%] File Downloaded !\n",
      "\n",
      "[%] Downloading Image #15 from https://i.pinimg.com/originals/06/ef/c5/06efc56d1ade1dd766a8f7d0d07042bd.jpg\n",
      "[%] File Downloaded !\n",
      "\n",
      "[%] Downloading Image #16 from https://i.ebayimg.com/images/i/162767841018-0-1/s-l1000.jpg\n",
      "[%] File Downloaded !\n",
      "\n",
      "[%] Downloading Image #17 from https://i.ebayimg.com/images/i/302639145394-0-1/s-l1000.jpg\n",
      "[%] File Downloaded !\n",
      "\n",
      "[%] Downloading Image #18 from https://www.rugbystore.co.uk/wso/images/library/45076205-side1-72dpi-rgb.jpg?view=976&amp;v=636461634600000000\n",
      "[%] File Downloaded !\n",
      "\n",
      "[%] Downloading Image #19 from https://uk-rugby-shop.co.uk/wp-content/uploads/2019/10/Worcester-Warriors-Supporters-Rugby-Ball.jpg\n",
      "[%] File Downloaded !\n",
      "\n",
      "[%] Downloading Image #20 from https://www.rugbystore.co.uk/wso/images/library/45076405-detail-72dpi-rgb.jpg?view=976&amp;v=636461636400000000\n",
      "[%] File Downloaded !\n",
      "\n",
      "[%] Downloading Image #21 from https://cdn.shopify.com/s/files/1/0043/7429/8696/products/Jungle_Rugby_Ball_-_Tiger_2_1800x1800.jpg?v=1569268129\n",
      "[%] File Downloaded !\n",
      "\n",
      "[%] Downloading Image #22 from https://www.prodirectrugby.com/productimages/V3_1_Main/V3_1_Main_0300669.jpg\n",
      "[!] Issue getting: https://www.prodirectrugby.com/productimages/V3_1_Main/V3_1_Main_0300669.jpg\n",
      "[!] Error:: HTTP Error 403: Forbidden\n",
      "[%] Downloading Image #22 from https://cdn.shopify.com/s/files/1/0043/7429/8696/products/Jungle_Rugby_Ball_-_Monkey_2_1800x1800.jpg?v=1569266762\n",
      "[%] File Downloaded !\n",
      "\n",
      "[%] Downloading Image #23 from https://cdn.shopify.com/s/files/1/1492/1076/products/Screenshot_2020-01-16_at_20.45.15_1400x.png?v=1579207648\n",
      "[%] File Downloaded !\n",
      "\n",
      "[%] Downloading Image #24 from https://www.rugbystore.co.uk/wso/images/library/45076405-side1-72dpi-rgb.jpg?view=976&amp;v=636461636400000000\n",
      "[%] File Downloaded !\n",
      "\n",
      "[%] Downloading Image #25 from https://i.ebayimg.com/images/g/3hEAAOSwDudeQrv6/s-l640.jpg\n",
      "[%] File Downloaded !\n",
      "\n",
      "\n",
      "\n",
      "[!!]Indexing page: 2\n",
      "\n",
      "[%] Indexed 35 Images on Page 2.\n",
      "\n",
      "===============================================\n",
      "\n",
      "[%] Downloading Image #26 from https://www.rugbystore.co.uk/wso/images/library/48427805-side1-72dpi-rgb.jpg?view=976&amp;v=637153728600000000\n",
      "[%] File Downloaded !\n",
      "\n",
      "[%] Downloading Image #27 from https://www.rugbystore.co.uk/wso/images/library/gow-017378-front-72dpi-rgb.jpg?view=976&amp;v=636547382400000000\n",
      "[%] File Downloaded !\n",
      "\n",
      "[%] Downloading Image #28 from https://www.cathryncariad.com/uploads/5/0/7/9/5079686/s330083002289802700_p249_i34_w2466.jpeg\n",
      "[%] File Downloaded !\n",
      "\n",
      "[%] Downloading Image #29 from https://www.rugbystore.co.uk/wso/images/library/45075905-detail-72dpi-rgb.jpg?view=976&amp;v=636461638200000000\n",
      "[%] File Downloaded !\n",
      "\n",
      "[%] Downloading Image #30 from https://www.rugbystore.co.uk/wso/images/library/48418401-side1-72dpi-rgb.jpg?view=976\n",
      "[%] File Downloaded !\n",
      "\n",
      "\n",
      "\n",
      "[%] Done. Downloaded 30 images.\n",
      "===============================================\n",
      "\n",
      "Please show your support here\n",
      "https://www.buymeacoffee.com/gurugaurav\n",
      "\n",
      "===============================================\n",
      "\n",
      "time: 2min 9s (started: 2021-06-16 12:21:59 +05:30)\n"
     ]
    }
   ],
   "source": [
    "from bing_image_downloader import downloader\n",
    "downloader.download(\"Rugby Ball\" , limit=30,output_dir='images',adult_filter_off=True)"
   ]
  },
  {
   "cell_type": "code",
   "execution_count": 7,
   "metadata": {},
   "outputs": [
    {
     "name": "stdout",
     "output_type": "stream",
     "text": [
      "time: 39.8 s (started: 2021-06-16 12:24:45 +05:30)\n"
     ]
    }
   ],
   "source": [
    "#preprocessing\n",
    "import os\n",
    "import matplotlib.pyplot as plt\n",
    "import numpy as np\n",
    "from skimage.io import imread\n",
    "from skimage.transform import resize\n",
    "\n",
    "target = []\n",
    "images = []\n",
    "flat_data = []\n",
    "\n",
    "DATADIR = r'C:\\Users\\D Deepak Prasanna\\Desktop\\New folder\\images'\n",
    "CATEGORIES = ['Basket Ball','Rugby Ball']\n",
    "\n",
    "for category in CATEGORIES:\n",
    "    class_num  = CATEGORIES.index(category) #Label encoding the values\n",
    "    path = os.path.join(DATADIR,category)  #Create path to use all the images\n",
    "    for img in os.listdir(path):\n",
    "        img_array = imread(os.path.join(path,img))\n",
    "        #print(img_array.shape)\n",
    "        #plt.imshow(img_array)\n",
    "        img_resized = resize(img_array,(150,150,3))\n",
    "        flat_data.append(img_resized.flatten())\n",
    "        images.append(img_resized)\n",
    "        target.append(class_num)\n",
    "        \n",
    "flat_data = np.array(flat_data)\n",
    "target = np.array(target)\n",
    "images = np.array(images)"
   ]
  },
  {
   "cell_type": "code",
   "execution_count": 9,
   "metadata": {},
   "outputs": [
    {
     "data": {
      "text/plain": [
       "array([0, 0, 0, 0, 0, 0, 0, 0, 0, 0, 0, 0, 0, 0, 0, 0, 0, 0, 0, 0, 0, 0,\n",
       "       0, 0, 0, 0, 0, 0, 0, 0, 1, 1, 1, 1, 1, 1, 1, 1, 1, 1, 1, 1, 1, 1,\n",
       "       1, 1, 1, 1, 1, 1, 1, 1, 1, 1, 1, 1, 1, 1, 1, 1])"
      ]
     },
     "execution_count": 9,
     "metadata": {},
     "output_type": "execute_result"
    },
    {
     "name": "stdout",
     "output_type": "stream",
     "text": [
      "time: 16 ms (started: 2021-06-16 12:25:30 +05:30)\n"
     ]
    }
   ],
   "source": [
    "target"
   ]
  },
  {
   "cell_type": "code",
   "execution_count": 10,
   "metadata": {},
   "outputs": [
    {
     "name": "stdout",
     "output_type": "stream",
     "text": [
      "time: 0 ns (started: 2021-06-16 12:25:31 +05:30)\n"
     ]
    }
   ],
   "source": [
    "unique,count = np.unique(target,return_counts=True)"
   ]
  },
  {
   "cell_type": "code",
   "execution_count": 11,
   "metadata": {},
   "outputs": [
    {
     "data": {
      "text/plain": [
       "<BarContainer object of 2 artists>"
      ]
     },
     "execution_count": 11,
     "metadata": {},
     "output_type": "execute_result"
    },
    {
     "data": {
      "image/png": "[encoded data removed]",
      "text/plain": [
       "<Figure size 432x288 with 1 Axes>"
      ]
     },
     "metadata": {
      "needs_background": "light"
     },
     "output_type": "display_data"
    },
    {
     "name": "stdout",
     "output_type": "stream",
     "text": [
      "time: 250 ms (started: 2021-06-16 12:25:33 +05:30)\n"
     ]
    }
   ],
   "source": [
    "plt.bar(CATEGORIES,count)"
   ]
  },
  {
   "cell_type": "code",
   "execution_count": 12,
   "metadata": {},
   "outputs": [
    {
     "name": "stdout",
     "output_type": "stream",
     "text": [
      "time: 2.23 s (started: 2021-06-16 12:25:34 +05:30)\n"
     ]
    }
   ],
   "source": [
    "#Split data into training and testing\n",
    "\n",
    "from sklearn.model_selection import train_test_split\n",
    "x_train,x_test,y_train,y_test = train_test_split(flat_data,target,test_size=0.3,random_state=109)"
   ]
  },
  {
   "cell_type": "code",
   "execution_count": 31,
   "metadata": {},
   "outputs": [
    {
     "name": "stdout",
     "output_type": "stream",
     "text": [
      "time: 390 ms (started: 2021-06-16 12:41:25 +05:30)\n"
     ]
    }
   ],
   "source": [
    "from sklearn.ensemble import RandomForestClassifier\n",
    "classifier = RandomForestClassifier(n_estimators=100)\n",
    "\n",
    "# Train the model using the training sets\n",
    "classifier.fit(x_train, y_train)\n",
    "y_pred = classifier.predict(x_test)"
   ]
  },
  {
   "cell_type": "code",
   "execution_count": 32,
   "metadata": {},
   "outputs": [
    {
     "data": {
      "text/plain": [
       "array([0, 0, 0, 1, 0, 0, 1, 0, 0, 1, 1, 1, 1, 0, 1, 0, 0, 0])"
      ]
     },
     "execution_count": 32,
     "metadata": {},
     "output_type": "execute_result"
    },
    {
     "name": "stdout",
     "output_type": "stream",
     "text": [
      "time: 0 ns (started: 2021-06-16 12:41:28 +05:30)\n"
     ]
    }
   ],
   "source": [
    "y_pred"
   ]
  },
  {
   "cell_type": "code",
   "execution_count": 33,
   "metadata": {},
   "outputs": [
    {
     "data": {
      "text/plain": [
       "array([0, 0, 0, 1, 0, 0, 1, 0, 0, 1, 1, 1, 1, 0, 1, 0, 0, 0])"
      ]
     },
     "execution_count": 33,
     "metadata": {},
     "output_type": "execute_result"
    },
    {
     "name": "stdout",
     "output_type": "stream",
     "text": [
      "time: 0 ns (started: 2021-06-16 12:41:28 +05:30)\n"
     ]
    }
   ],
   "source": [
    "y_test"
   ]
  },
  {
   "cell_type": "code",
   "execution_count": 34,
   "metadata": {},
   "outputs": [
    {
     "name": "stdout",
     "output_type": "stream",
     "text": [
      "time: 0 ns (started: 2021-06-16 12:41:29 +05:30)\n"
     ]
    }
   ],
   "source": [
    "from sklearn.metrics import accuracy_score,confusion_matrix"
   ]
  },
  {
   "cell_type": "code",
   "execution_count": 47,
   "metadata": {},
   "outputs": [
    {
     "data": {
      "text/plain": [
       "1.0"
      ]
     },
     "execution_count": 47,
     "metadata": {},
     "output_type": "execute_result"
    },
    {
     "name": "stdout",
     "output_type": "stream",
     "text": [
      "time: 0 ns (started: 2021-06-16 12:45:29 +05:30)\n"
     ]
    }
   ],
   "source": [
    "accuracy_score(y_pred,y_test)"
   ]
  },
  {
   "cell_type": "code",
   "execution_count": 40,
   "metadata": {},
   "outputs": [
    {
     "data": {
      "text/plain": [
       "array([[11,  0],\n",
       "       [ 0,  7]], dtype=int64)"
      ]
     },
     "execution_count": 40,
     "metadata": {},
     "output_type": "execute_result"
    },
    {
     "name": "stdout",
     "output_type": "stream",
     "text": [
      "time: 15 ms (started: 2021-06-16 12:42:35 +05:30)\n"
     ]
    }
   ],
   "source": [
    "confusion_matrix(y_pred,y_test)"
   ]
  },
  {
   "cell_type": "code",
   "execution_count": 42,
   "metadata": {},
   "outputs": [
    {
     "name": "stdout",
     "output_type": "stream",
     "text": [
      "time: 16 ms (started: 2021-06-16 12:42:38 +05:30)\n"
     ]
    }
   ],
   "source": [
    "#Save the model using pickle\n",
    "import pickle\n",
    "pickle.dump(classifier,open('img_model.p','wb'))"
   ]
  },
  {
   "cell_type": "code",
   "execution_count": 43,
   "metadata": {},
   "outputs": [
    {
     "name": "stdout",
     "output_type": "stream",
     "text": [
      "time: 15 ms (started: 2021-06-16 12:42:43 +05:30)\n"
     ]
    }
   ],
   "source": [
    "model = pickle.load(open('img_model.p','rb'))"
   ]
  },
  {
   "cell_type": "code",
   "execution_count": 46,
   "metadata": {},
   "outputs": [
    {
     "name": "stdout",
     "output_type": "stream",
     "text": [
      "Enter the urlhttps://encrypted-tbn0.gstatic.com/images?q=tbn:ANd9GcQVo_I5zdnWcJ8Odfn_TICUK4Q4rUFMqprOiQ&usqp=CAU\n",
      "(225, 225, 3)\n",
      " Predicted output: Basket Ball\n"
     ]
    },
    {
     "data": {
      "image/png": "[encoded data removed]",
      "text/plain": [
       "<Figure size 432x288 with 1 Axes>"
      ]
     },
     "metadata": {
      "needs_background": "light"
     },
     "output_type": "display_data"
    },
    {
     "name": "stdout",
     "output_type": "stream",
     "text": [
      "time: 2.72 s (started: 2021-06-16 12:43:44 +05:30)\n"
     ]
    }
   ],
   "source": [
    "#Testing a brand new image\n",
    "\n",
    "flat_data = []\n",
    "url = input(\"Enter the url\")\n",
    "img = imread(url)\n",
    "img_resized = resize(img,(150,150,3))\n",
    "flat_data.append(img_resized.flatten())\n",
    "flat_data = np.array(flat_data)\n",
    "print(img.shape)\n",
    "plt.imshow(img_resized)\n",
    "y_out = model.predict(flat_data)\n",
    "y_out = CATEGORIES[y_out[0]]\n",
    "print(f' Predicted output: {y_out}')\n"
   ]
  },
  {
   "cell_type": "code",
   "execution_count": 71,
   "metadata": {},
   "outputs": [
    {
     "name": "stdout",
     "output_type": "stream",
     "text": [
      "Requirement already satisfied: streamlit in c:\\users\\d deepak prasanna\\anaconda3\\lib\\site-packages (0.82.0)\n",
      "Requirement already satisfied: tornado>=5.0 in c:\\users\\d deepak prasanna\\anaconda3\\lib\\site-packages (from streamlit) (6.0.3)\n",
      "Requirement already satisfied: altair>=3.2.0 in c:\\users\\d deepak prasanna\\anaconda3\\lib\\site-packages (from streamlit) (4.1.0)\n",
      "Requirement already satisfied: pyarrow; python_version < \"3.9\" in c:\\users\\d deepak prasanna\\anaconda3\\lib\\site-packages (from streamlit) (4.0.1)\n",
      "Requirement already satisfied: blinker in c:\\users\\d deepak prasanna\\anaconda3\\lib\\site-packages (from streamlit) (1.4)\n",
      "Requirement already satisfied: packaging in c:\\users\\d deepak prasanna\\anaconda3\\lib\\site-packages (from streamlit) (19.2)\n",
      "Requirement already satisfied: validators in c:\\users\\d deepak prasanna\\anaconda3\\lib\\site-packages (from streamlit) (0.18.2)\n",
      "Requirement already satisfied: click<8.0,>=7.0 in c:\\users\\d deepak prasanna\\anaconda3\\lib\\site-packages (from streamlit) (7.0)\n",
      "Requirement already satisfied: protobuf!=3.11,>=3.6.0 in c:\\users\\d deepak prasanna\\anaconda3\\lib\\site-packages (from streamlit) (3.17.3)\n",
      "Requirement already satisfied: pandas>=0.21.0 in c:\\users\\d deepak prasanna\\anaconda3\\lib\\site-packages (from streamlit) (0.25.1)\n",
      "Requirement already satisfied: toml in c:\\users\\d deepak prasanna\\anaconda3\\lib\\site-packages (from streamlit) (0.10.2)\n",
      "Requirement already satisfied: watchdog; platform_system != \"Darwin\" in c:\\users\\d deepak prasanna\\anaconda3\\lib\\site-packages (from streamlit) (2.1.2)\n",
      "Requirement already satisfied: base58 in c:\\users\\d deepak prasanna\\anaconda3\\lib\\site-packages (from streamlit) (2.1.0)\n",
      "Requirement already satisfied: tzlocal in c:\\users\\d deepak prasanna\\anaconda3\\lib\\site-packages (from streamlit) (2.1)\n",
      "Requirement already satisfied: requests in c:\\users\\d deepak prasanna\\anaconda3\\lib\\site-packages (from streamlit) (2.22.0)\n",
      "Requirement already satisfied: pydeck>=0.1.dev5 in c:\\users\\d deepak prasanna\\anaconda3\\lib\\site-packages (from streamlit) (0.6.2)\n",
      "Requirement already satisfied: cachetools>=4.0 in c:\\users\\d deepak prasanna\\anaconda3\\lib\\site-packages (from streamlit) (4.2.2)\n",
      "Requirement already satisfied: numpy in c:\\users\\d deepak prasanna\\anaconda3\\lib\\site-packages (from streamlit) (1.16.6)\n",
      "Requirement already satisfied: python-dateutil in c:\\users\\d deepak prasanna\\anaconda3\\lib\\site-packages (from streamlit) (2.8.0)\n",
      "Requirement already satisfied: pillow>=6.2.0 in c:\\users\\d deepak prasanna\\anaconda3\\lib\\site-packages (from streamlit) (6.2.0)\n",
      "Requirement already satisfied: gitpython in c:\\users\\d deepak prasanna\\anaconda3\\lib\\site-packages (from streamlit) (3.1.14)\n",
      "Requirement already satisfied: astor in c:\\users\\d deepak prasanna\\anaconda3\\lib\\site-packages (from streamlit) (0.8.1)\n",
      "Requirement already satisfied: entrypoints in c:\\users\\d deepak prasanna\\anaconda3\\lib\\site-packages (from altair>=3.2.0->streamlit) (0.3)\n",
      "Requirement already satisfied: toolz in c:\\users\\d deepak prasanna\\anaconda3\\lib\\site-packages (from altair>=3.2.0->streamlit) (0.10.0)\n",
      "Requirement already satisfied: jinja2 in c:\\users\\d deepak prasanna\\anaconda3\\lib\\site-packages (from altair>=3.2.0->streamlit) (2.10.3)\n",
      "Requirement already satisfied: jsonschema in c:\\users\\d deepak prasanna\\anaconda3\\lib\\site-packages (from altair>=3.2.0->streamlit) (3.0.2)\n",
      "Requirement already satisfied: six in c:\\users\\d deepak prasanna\\anaconda3\\lib\\site-packages (from packaging->streamlit) (1.12.0)\n",
      "Requirement already satisfied: pyparsing>=2.0.2 in c:\\users\\d deepak prasanna\\anaconda3\\lib\\site-packages (from packaging->streamlit) (2.4.2)\n",
      "Requirement already satisfied: decorator>=3.4.0 in c:\\users\\d deepak prasanna\\anaconda3\\lib\\site-packages (from validators->streamlit) (4.4.0)\n",
      "Requirement already satisfied: pytz>=2017.2 in c:\\users\\d deepak prasanna\\anaconda3\\lib\\site-packages (from pandas>=0.21.0->streamlit) (2019.3)\n",
      "Requirement already satisfied: idna<2.9,>=2.5 in c:\\users\\d deepak prasanna\\anaconda3\\lib\\site-packages (from requests->streamlit) (2.8)\n",
      "Requirement already satisfied: certifi>=2017.4.17 in c:\\users\\d deepak prasanna\\anaconda3\\lib\\site-packages (from requests->streamlit) (2019.9.11)\n",
      "Requirement already satisfied: chardet<3.1.0,>=3.0.2 in c:\\users\\d deepak prasanna\\anaconda3\\lib\\site-packages (from requests->streamlit) (3.0.4)\n",
      "Requirement already satisfied: urllib3!=1.25.0,!=1.25.1,<1.26,>=1.21.1 in c:\\users\\d deepak prasanna\\anaconda3\\lib\\site-packages (from requests->streamlit) (1.24.2)\n",
      "Requirement already satisfied: ipywidgets>=7.0.0 in c:\\users\\d deepak prasanna\\anaconda3\\lib\\site-packages (from pydeck>=0.1.dev5->streamlit) (7.5.1)\n",
      "Requirement already satisfied: ipykernel>=5.1.2; python_version >= \"3.4\" in c:\\users\\d deepak prasanna\\anaconda3\\lib\\site-packages (from pydeck>=0.1.dev5->streamlit) (5.1.2)\n",
      "Requirement already satisfied: traitlets>=4.3.2 in c:\\users\\d deepak prasanna\\anaconda3\\lib\\site-packages (from pydeck>=0.1.dev5->streamlit) (4.3.3)\n",
      "Requirement already satisfied: gitdb<5,>=4.0.1 in c:\\users\\d deepak prasanna\\anaconda3\\lib\\site-packages (from gitpython->streamlit) (4.0.7)\n",
      "Requirement already satisfied: MarkupSafe>=0.23 in c:\\users\\d deepak prasanna\\anaconda3\\lib\\site-packages (from jinja2->altair>=3.2.0->streamlit) (1.1.1)\n",
      "Requirement already satisfied: setuptools in c:\\users\\d deepak prasanna\\anaconda3\\lib\\site-packages (from jsonschema->altair>=3.2.0->streamlit) (41.4.0)\n",
      "Requirement already satisfied: pyrsistent>=0.14.0 in c:\\users\\d deepak prasanna\\anaconda3\\lib\\site-packages (from jsonschema->altair>=3.2.0->streamlit) (0.15.4)\n",
      "Requirement already satisfied: attrs>=17.4.0 in c:\\users\\d deepak prasanna\\anaconda3\\lib\\site-packages (from jsonschema->altair>=3.2.0->streamlit) (19.2.0)\n",
      "Requirement already satisfied: widgetsnbextension~=3.5.0 in c:\\users\\d deepak prasanna\\anaconda3\\lib\\site-packages (from ipywidgets>=7.0.0->pydeck>=0.1.dev5->streamlit) (3.5.1)\n",
      "Requirement already satisfied: ipython>=4.0.0; python_version >= \"3.3\" in c:\\users\\d deepak prasanna\\anaconda3\\lib\\site-packages (from ipywidgets>=7.0.0->pydeck>=0.1.dev5->streamlit) (7.8.0)\n",
      "Requirement already satisfied: nbformat>=4.2.0 in c:\\users\\d deepak prasanna\\anaconda3\\lib\\site-packages (from ipywidgets>=7.0.0->pydeck>=0.1.dev5->streamlit) (4.4.0)\n",
      "Requirement already satisfied: jupyter-client in c:\\users\\d deepak prasanna\\anaconda3\\lib\\site-packages (from ipykernel>=5.1.2; python_version >= \"3.4\"->pydeck>=0.1.dev5->streamlit) (5.3.3)\n",
      "Requirement already satisfied: ipython-genutils in c:\\users\\d deepak prasanna\\anaconda3\\lib\\site-packages (from traitlets>=4.3.2->pydeck>=0.1.dev5->streamlit) (0.2.0)\n",
      "Requirement already satisfied: smmap<5,>=3.0.1 in c:\\users\\d deepak prasanna\\anaconda3\\lib\\site-packages (from gitdb<5,>=4.0.1->gitpython->streamlit) (4.0.0)\n",
      "Requirement already satisfied: notebook>=4.4.1 in c:\\users\\d deepak prasanna\\anaconda3\\lib\\site-packages (from widgetsnbextension~=3.5.0->ipywidgets>=7.0.0->pydeck>=0.1.dev5->streamlit) (6.0.1)\n",
      "Requirement already satisfied: colorama; sys_platform == \"win32\" in c:\\users\\d deepak prasanna\\anaconda3\\lib\\site-packages (from ipython>=4.0.0; python_version >= \"3.3\"->ipywidgets>=7.0.0->pydeck>=0.1.dev5->streamlit) (0.4.1)\n",
      "Requirement already satisfied: pickleshare in c:\\users\\d deepak prasanna\\anaconda3\\lib\\site-packages (from ipython>=4.0.0; python_version >= \"3.3\"->ipywidgets>=7.0.0->pydeck>=0.1.dev5->streamlit) (0.7.5)\n",
      "Requirement already satisfied: prompt-toolkit<2.1.0,>=2.0.0 in c:\\users\\d deepak prasanna\\anaconda3\\lib\\site-packages (from ipython>=4.0.0; python_version >= \"3.3\"->ipywidgets>=7.0.0->pydeck>=0.1.dev5->streamlit) (2.0.10)\n",
      "Requirement already satisfied: backcall in c:\\users\\d deepak prasanna\\anaconda3\\lib\\site-packages (from ipython>=4.0.0; python_version >= \"3.3\"->ipywidgets>=7.0.0->pydeck>=0.1.dev5->streamlit) (0.1.0)\n",
      "Requirement already satisfied: jedi>=0.10 in c:\\users\\d deepak prasanna\\anaconda3\\lib\\site-packages (from ipython>=4.0.0; python_version >= \"3.3\"->ipywidgets>=7.0.0->pydeck>=0.1.dev5->streamlit) (0.15.1)\n",
      "Requirement already satisfied: pygments in c:\\users\\d deepak prasanna\\anaconda3\\lib\\site-packages (from ipython>=4.0.0; python_version >= \"3.3\"->ipywidgets>=7.0.0->pydeck>=0.1.dev5->streamlit) (2.4.2)\n",
      "Requirement already satisfied: jupyter-core in c:\\users\\d deepak prasanna\\anaconda3\\lib\\site-packages (from nbformat>=4.2.0->ipywidgets>=7.0.0->pydeck>=0.1.dev5->streamlit) (4.5.0)\n",
      "Requirement already satisfied: pyzmq>=13 in c:\\users\\d deepak prasanna\\anaconda3\\lib\\site-packages (from jupyter-client->ipykernel>=5.1.2; python_version >= \"3.4\"->pydeck>=0.1.dev5->streamlit) (18.1.0)\n",
      "Requirement already satisfied: pywin32>=1.0; sys_platform == \"win32\" in c:\\users\\d deepak prasanna\\anaconda3\\lib\\site-packages (from jupyter-client->ipykernel>=5.1.2; python_version >= \"3.4\"->pydeck>=0.1.dev5->streamlit) (223)\n",
      "Requirement already satisfied: nbconvert in c:\\users\\d deepak prasanna\\anaconda3\\lib\\site-packages (from notebook>=4.4.1->widgetsnbextension~=3.5.0->ipywidgets>=7.0.0->pydeck>=0.1.dev5->streamlit) (5.6.0)\n",
      "Requirement already satisfied: terminado>=0.8.1 in c:\\users\\d deepak prasanna\\anaconda3\\lib\\site-packages (from notebook>=4.4.1->widgetsnbextension~=3.5.0->ipywidgets>=7.0.0->pydeck>=0.1.dev5->streamlit) (0.8.2)\n",
      "Requirement already satisfied: Send2Trash in c:\\users\\d deepak prasanna\\anaconda3\\lib\\site-packages (from notebook>=4.4.1->widgetsnbextension~=3.5.0->ipywidgets>=7.0.0->pydeck>=0.1.dev5->streamlit) (1.5.0)\n",
      "Requirement already satisfied: prometheus-client in c:\\users\\d deepak prasanna\\anaconda3\\lib\\site-packages (from notebook>=4.4.1->widgetsnbextension~=3.5.0->ipywidgets>=7.0.0->pydeck>=0.1.dev5->streamlit) (0.7.1)\n",
      "Requirement already satisfied: wcwidth in c:\\users\\d deepak prasanna\\anaconda3\\lib\\site-packages (from prompt-toolkit<2.1.0,>=2.0.0->ipython>=4.0.0; python_version >= \"3.3\"->ipywidgets>=7.0.0->pydeck>=0.1.dev5->streamlit) (0.1.7)\n",
      "Requirement already satisfied: parso>=0.5.0 in c:\\users\\d deepak prasanna\\anaconda3\\lib\\site-packages (from jedi>=0.10->ipython>=4.0.0; python_version >= \"3.3\"->ipywidgets>=7.0.0->pydeck>=0.1.dev5->streamlit) (0.5.1)\n",
      "Requirement already satisfied: bleach in c:\\users\\d deepak prasanna\\anaconda3\\lib\\site-packages (from nbconvert->notebook>=4.4.1->widgetsnbextension~=3.5.0->ipywidgets>=7.0.0->pydeck>=0.1.dev5->streamlit) (3.1.0)\n",
      "Requirement already satisfied: testpath in c:\\users\\d deepak prasanna\\anaconda3\\lib\\site-packages (from nbconvert->notebook>=4.4.1->widgetsnbextension~=3.5.0->ipywidgets>=7.0.0->pydeck>=0.1.dev5->streamlit) (0.4.2)\n",
      "Requirement already satisfied: pandocfilters>=1.4.1 in c:\\users\\d deepak prasanna\\anaconda3\\lib\\site-packages (from nbconvert->notebook>=4.4.1->widgetsnbextension~=3.5.0->ipywidgets>=7.0.0->pydeck>=0.1.dev5->streamlit) (1.4.2)\n",
      "Requirement already satisfied: mistune<2,>=0.8.1 in c:\\users\\d deepak prasanna\\anaconda3\\lib\\site-packages (from nbconvert->notebook>=4.4.1->widgetsnbextension~=3.5.0->ipywidgets>=7.0.0->pydeck>=0.1.dev5->streamlit) (0.8.4)\n",
      "Requirement already satisfied: defusedxml in c:\\users\\d deepak prasanna\\anaconda3\\lib\\site-packages (from nbconvert->notebook>=4.4.1->widgetsnbextension~=3.5.0->ipywidgets>=7.0.0->pydeck>=0.1.dev5->streamlit) (0.6.0)\n",
      "Requirement already satisfied: webencodings in c:\\users\\d deepak prasanna\\anaconda3\\lib\\site-packages (from bleach->nbconvert->notebook>=4.4.1->widgetsnbextension~=3.5.0->ipywidgets>=7.0.0->pydeck>=0.1.dev5->streamlit) (0.5.1)\n"
     ]
    },
    {
     "name": "stdout",
     "output_type": "stream",
     "text": [
      "Collecting ngrok\n",
      "  Downloading https://files.pythonhosted.org/packages/67/50/c64abd519f50537df4726bc2572862d1925e377d4a80a9c06e70db048682/ngrok-0.1.6.tar.gz\n",
      "Collecting ping (from ngrok)\n",
      "  Downloading https://files.pythonhosted.org/packages/03/ac/9a3f332f8d7d27cd8929922b2e225842c1623760364b37fc79dc0f65e77d/ping-0.2.tar.gz\n",
      "time: 12.5 s (started: 2021-06-16 13:32:46 +05:30)\n"
     ]
    },
    {
     "name": "stderr",
     "output_type": "stream",
     "text": [
      "    ERROR: Command errored out with exit status 1:\n",
      "     command: 'C:\\Users\\D Deepak Prasanna\\Anaconda3\\python.exe' -c 'import sys, setuptools, tokenize; sys.argv[0] = '\"'\"'C:\\\\Users\\\\DDEEPA~1\\\\AppData\\\\Local\\\\Temp\\\\pip-install-4jknomi4\\\\ping\\\\setup.py'\"'\"'; __file__='\"'\"'C:\\\\Users\\\\DDEEPA~1\\\\AppData\\\\Local\\\\Temp\\\\pip-install-4jknomi4\\\\ping\\\\setup.py'\"'\"';f=getattr(tokenize, '\"'\"'open'\"'\"', open)(__file__);code=f.read().replace('\"'\"'\\r\\n'\"'\"', '\"'\"'\\n'\"'\"');f.close();exec(compile(code, __file__, '\"'\"'exec'\"'\"'))' egg_info --egg-base pip-egg-info\n",
      "         cwd: C:\\Users\\DDEEPA~1\\AppData\\Local\\Temp\\pip-install-4jknomi4\\ping\\\n",
      "    Complete output (8 lines):\n",
      "    Traceback (most recent call last):\n",
      "      File \"<string>\", line 1, in <module>\n",
      "      File \"C:\\Users\\DDEEPA~1\\AppData\\Local\\Temp\\pip-install-4jknomi4\\ping\\setup.py\", line 23, in <module>\n",
      "        from ping import __version__\n",
      "      File \"C:\\Users\\DDEEPA~1\\AppData\\Local\\Temp\\pip-install-4jknomi4\\ping\\ping.py\", line 196\n",
      "        except socket.error, (errno, msg):\n",
      "                           ^\n",
      "    SyntaxError: invalid syntax\n",
      "    ----------------------------------------\n",
      "ERROR: Command errored out with exit status 1: python setup.py egg_info Check the logs for full command output.\n"
     ]
    }
   ],
   "source": [
    "!pip install streamlit\n",
    "!pip install ngrok\n",
    "from pyngrok import ngrok"
   ]
  },
  {
   "cell_type": "code",
   "execution_count": 2,
   "metadata": {},
   "outputs": [
    {
     "name": "stdout",
     "output_type": "stream",
     "text": [
      "Overwriting app.py\n"
     ]
    }
   ],
   "source": [
    "%%writefile app.py\n",
    "import streamlit as st\n",
    "import os\n",
    "import matplotlib.pyplot as plt\n",
    "import numpy as np\n",
    "from skimage.io import imread\n",
    "from skimage.transform import resize\n",
    "import pickle\n",
    "from PIL import Image\n",
    "st.set_option('deprecation.showfileUploaderEncoding',False)\n",
    "st.title(\"immage classifier\")\n",
    "st.text(\"Upload the image\")\n",
    "\n",
    "model = pickle.load(open('img_model.p','rb'))\n",
    "\n",
    "Uploaded_file = st.file_uploader(\"Choose an image....\",type=\"jpg\")\n",
    "if Uploaded_file is not None:\n",
    "    img = Image.open(Uploaded_file)\n",
    "    st.image(img,caption='Uploaded Image')\n",
    "    \n",
    "    if st.button(\"PREDICT\"):\n",
    "        CATEGORIES = ['Basket Ball','Rugby Ball']\n",
    "        st.write('Result....')\n",
    "        flat_data=[]\n",
    "        img = np.array(img)\n",
    "        img_resized = resize(img,(150,150,3))\n",
    "        flat_data.append(img_resized.flatten())\n",
    "        flat_data = np.array(flat_data)\n",
    "        y_out = model.predict(flat_data)\n",
    "        y_out = CATEGORIES[y_out[0]]\n",
    "        st.write(f'PREDICTED OUTPUT: {y_out}')\n",
    "        q = model.predict_proba(flat_data)\n",
    "        for index, item in enumerate(CATEGORIES):\n",
    "            st.write(f'{item} : {q[0][index]*100}%')\n",
    "            "
   ]
  },
  {
   "cell_type": "code",
   "execution_count": 13,
   "metadata": {},
   "outputs": [
    {
     "ename": "SyntaxError",
     "evalue": "invalid syntax (<ipython-input-13-8cf7404595bc>, line 1)",
     "output_type": "error",
     "traceback": [
      "\u001b[1;36m  File \u001b[1;32m\"<ipython-input-13-8cf7404595bc>\"\u001b[1;36m, line \u001b[1;32m1\u001b[0m\n\u001b[1;33m    streamlit run app.py &\u001b[0m\n\u001b[1;37m                ^\u001b[0m\n\u001b[1;31mSyntaxError\u001b[0m\u001b[1;31m:\u001b[0m invalid syntax\n"
     ]
    }
   ],
   "source": [
    "streamlit run app.py &"
   ]
  },
  {
   "cell_type": "code",
   "execution_count": null,
   "metadata": {},
   "outputs": [],
   "source": []
  }
 ],
 "metadata": {
  "kernelspec": {
   "display_name": "Python 3",
   "language": "python",
   "name": "python3"
  },
  "language_info": {
   "codemirror_mode": {
    "name": "ipython",
    "version": 3
   },
   "file_extension": ".py",
   "mimetype": "text/x-python",
   "name": "python",
   "nbconvert_exporter": "python",
   "pygments_lexer": "ipython3",
   "version": "3.7.4"
  }
 },
 "nbformat": 4,
 "nbformat_minor": 2
}
